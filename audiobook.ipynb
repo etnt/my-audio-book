{
 "cells": [
  {
   "cell_type": "code",
   "execution_count": 2,
   "metadata": {},
   "outputs": [],
   "source": [
    "import os\n",
    "import io\n",
    "from pydantic import BaseModel, ValidationError\n",
    "from typing import List, Literal\n",
    "from openai import OpenAI\n",
    "from promptic import llm\n",
    "from tenacity import retry, retry_if_exception_type\n",
    "from dotenv import load_dotenv\n",
    "import concurrent.futures as cf\n",
    "from tempfile import NamedTemporaryFile"
   ]
  },
  {
   "cell_type": "code",
   "execution_count": 3,
   "metadata": {},
   "outputs": [],
   "source": [
    "load_dotenv()\n",
    "api_key = os.getenv(\"OPENAI_API_KEY\")"
   ]
  },
  {
   "cell_type": "code",
   "execution_count": 11,
   "metadata": {},
   "outputs": [],
   "source": [
    "text = \"\"\"\n",
    "As Lorquas Ptomel raised his eyes to address the prisoner they fell on\n",
    "me and he turned to Tars Tarkas with a word, and gesture of impatience.\n",
    "Tars Tarkas made some reply which I could not catch, but which caused\n",
    "Lorquas Ptomel to smile; after which they paid no further attention to\n",
    "me.\n",
    "\n",
    "“What is your name?” asked Lorquas Ptomel, addressing the prisoner.\n",
    "\n",
    "“Dejah Thoris, daughter of Mors Kajak of Helium.”\n",
    "\n",
    "“And the nature of your expedition?” he continued.\n",
    "\n",
    "“It was a purely scientific research party sent out by my father’s\n",
    "father, the Jeddak of Helium, to rechart the air currents, and to take\n",
    "atmospheric density tests,” replied the fair prisoner, in a low,\n",
    "well-modulated voice.\n",
    "\n",
    "“We were unprepared for battle,” she continued, “as we were on a\n",
    "peaceful mission, as our banners and the colors of our craft denoted.\n",
    "The work we were doing was as much in your interests as in ours, for\n",
    "you know full well that were it not for our labors and the fruits of\n",
    "our scientific operations there would not be enough air or water on\n",
    "Mars to support a single human life. For ages we have maintained the\n",
    "air and water supply at practically the same point without an\n",
    "appreciable loss, and we have done this in the face of the brutal and\n",
    "ignorant interference of you green men.\n",
    "\n",
    "“Why, oh, why will you not learn to live in amity with your fellows.\n",
    "Must you ever go on down the ages to your final extinction but little\n",
    "above the plane of the dumb brutes that serve you! A people without\n",
    "written language, without art, without homes, without love; the victims\n",
    "of eons of the horrible community idea. Owning everything in common,\n",
    "even to your women and children, has resulted in your owning nothing in\n",
    "common. You hate each other as you hate all else except yourselves.\n",
    "Come back to the ways of our common ancestors, come back to the light\n",
    "of kindliness and fellowship. The way is open to you, you will find the\n",
    "hands of the red men stretched out to aid you. Together we may do still\n",
    "more to regenerate our dying planet. The granddaughter of the greatest\n",
    "and mightiest of the red jeddaks has asked you. Will you come?”\n",
    "\n",
    "Lorquas Ptomel and the warriors sat looking silently and intently at\n",
    "the young woman for several moments after she had ceased speaking. What\n",
    "was passing in their minds no man may know, but that they were moved I\n",
    "truly believe, and if one man high among them had been strong enough to\n",
    "rise above custom, that moment would have marked a new and mighty era\n",
    "for Mars.\n",
    "\"\"\""
   ]
  },
  {
   "cell_type": "code",
   "execution_count": 5,
   "metadata": {},
   "outputs": [],
   "source": [
    "class DialogueItem(BaseModel):\n",
    "    text: str\n",
    "    speaker: Literal[\"female-1\", \"male-1\", \"female-2\"]\n",
    "\n",
    "    @property\n",
    "    def voice(self):\n",
    "        return {\n",
    "            \"female-1\": \"alloy\",\n",
    "            \"male-1\": \"onyx\",\n",
    "            \"female-2\": \"shimmer\",\n",
    "        }[self.speaker]\n",
    "\n",
    "\n",
    "class Dialogue(BaseModel):\n",
    "    scratchpad: str\n",
    "    dialogue: List[DialogueItem]"
   ]
  },
  {
   "cell_type": "code",
   "execution_count": 12,
   "metadata": {},
   "outputs": [],
   "source": [
    "@retry(retry=retry_if_exception_type(ValidationError))\n",
    "@llm(model=\"gpt-4o-mini\",)\n",
    "def generate_dialogue(text: str) -> Dialogue:\n",
    "    \"\"\"\n",
    "    Your task is to take the input text provided and turn it into an engaging, theater dialogue. You will have to identify what characters that take part of the text and what parts that are read by the Narrator. You should use this information to create a dialogue between the characters that is engaging, entertaining. The dialogue should be written in a natural, conversational tone and should flow smoothly from one character to the next. Be sure to include the characters' names before their lines of dialogue. Use a Narrators voice to describe the non-dialoge parts of the text to set the stage for the conversation. Your goal is to create a dialogue that is engaging and entertaining for the audience. The dialogue should be written in a way that is easy to read aloud and should be suitable for a teather audience . Be creative and have fun with this task! Good luck!\n",
    "    \n",
    "    Here is the input text you will be working with:\n",
    "\n",
    "    <input_text>\n",
    "    {text}\n",
    "    </input_text>\n",
    "\n",
    "    First, carefully read through the input text and identify the various characters and what is the Narrators parts. Think about tone and phrasing so that it would engage the audience.\n",
    "    <scratchpad>\n",
    "    Brainstorm creative ways to present this theather dialogue. Consider the personalities of the characters and how they might interact with each other. Identify parts that are not dialoge and use a Narrators voice for them. Think about the setting and how it can be used to enhance the dialogue. Jot down any ideas or key points that come to mind as you read through the input text. This will help you create a more engaging and entertaining dialogue. Be sure to include any important details or themes that you want to incorporate into the dialogue.\n",
    "    </scratchpad>\n",
    "\n",
    "    Now that you have brainstormed ideas and created a rough outline, it's time to write the actual play dialogue. Aim for a natural, conversational flow between the characters involved. Don't forget the Narrators voice for non dialoge parts. Incorporate the best ideas from your brainstorming session.\n",
    "    <podcast_dialogue>\n",
    "    Write your engaging, theater dialogue here, based on the key points and creative ideas you came up with during the brainstorming session. Use a tone that is suitable for the situations in the play; it is important that the audience thinks it to be believable -- it will be directly converted into audio.\n",
    "    </podcast_dialogue>\n",
    "    \"\"\"\n",
    "   \n",
    "llm_output = generate_dialogue(text)\n"
   ]
  },
  {
   "cell_type": "code",
   "execution_count": 16,
   "metadata": {},
   "outputs": [
    {
     "data": {
      "text/plain": [
       "Dialogue(scratchpad=\"This scene takes place in a dimly lit chamber on Mars, where Lorquas Ptomel, a green Martian leader, interrogates Dejah Thoris, a red Martian, who has been captured during a scientific expedition. The tension is palpable as Dejah attempts to appeal to Lorquas's sense of reason and unity between their peoples. The atmosphere is thick with moments of silence that suggest deep contemplation among the warriors present.\", dialogue=[DialogueItem(text='Lorquas Ptomel raises his eyes to the prisoner, frustration brewing beneath his calm surface.', speaker='male-1'), DialogueItem(text='What is your name?', speaker='male-1'), DialogueItem(text='Dejah Thoris, daughter of Mors Kajak of Helium.', speaker='female-1'), DialogueItem(text='And the nature of your expedition?', speaker='male-1'), DialogueItem(text='It was a purely scientific research party sent out by my father’s father, the Jeddak of Helium, to rechart the air currents, and to take atmospheric density tests.', speaker='female-1'), DialogueItem(text='She speaks softly but with conviction, a glimmer of hope flashing in her eyes.', speaker='male-1'), DialogueItem(text='We were unprepared for battle, as we were on a peaceful mission, as our banners and the colors of our craft denoted.', speaker='female-1'), DialogueItem(text=\"Doesn't matter. You intruded upon our territory. Do you even comprehend the danger you've brought upon yourselves?\", speaker='male-1'), DialogueItem(text='The work we were doing was as much in your interests as in ours! For ages we have maintained the air and water supply at practically the same point without an appreciable loss.', speaker='female-1'), DialogueItem(text='Lorquas Ptomel leans in, curious but guarded. The warriors shift uncomfortably.', speaker='male-1'), DialogueItem(text='Yet you call us brutes? Your kind is but an annoyance.', speaker='male-1'), DialogueItem(text='Why, oh, why will you not learn to live in amity with your fellows? Must you ever go on down the ages to your final extinction but little above the plane of the dumb brutes that serve you!', speaker='female-1'), DialogueItem(text='She gestures passionately, her voice lifting with emotion, as if attempting to pierce through the fog of ignorance surrounding the green men.', speaker='male-1'), DialogueItem(text='You own everything in common, even to your women and children, yet you own nothing in common!', speaker='female-1'), DialogueItem(text=\"There's truth in her words, yet we cling to our ways.\", speaker='male-1'), DialogueItem(text='You hate each other as you hate all else except yourselves. Come back to the ways of our common ancestors. Together we may do still more to regenerate our dying planet.', speaker='female-1'), DialogueItem(text='The granddaughter of the greatest and mightiest of the red jeddaks has asked you. Will you come?', speaker='female-1'), DialogueItem(text='Lorquas and the warriors sit in silence, considering her words. The weight of possibility hangs in the air.', speaker='male-1'), DialogueItem(text='What is to become of us if we do not change?', speaker='male-1'), DialogueItem(text='What is passing in their minds no man may know, but that they were moved I truly believe.', speaker='male-1')])"
      ]
     },
     "execution_count": 16,
     "metadata": {},
     "output_type": "execute_result"
    }
   ],
   "source": [
    "llm_output"
   ]
  },
  {
   "cell_type": "code",
   "execution_count": 13,
   "metadata": {},
   "outputs": [],
   "source": [
    "def get_mp3(text: str, voice: str, api_key: str = None) -> bytes:\n",
    "    client = OpenAI(\n",
    "        api_key=api_key or os.getenv(\"OPENAI_API_KEY\"),\n",
    "    )\n",
    "\n",
    "    with client.audio.speech.with_streaming_response.create(\n",
    "        model=\"tts-1\",\n",
    "        voice=voice,\n",
    "        input=text,\n",
    "    ) as response:\n",
    "        with io.BytesIO() as file:\n",
    "            for chunk in response.iter_bytes():\n",
    "                file.write(chunk)\n",
    "            return file.getvalue()"
   ]
  },
  {
   "cell_type": "code",
   "execution_count": 14,
   "metadata": {},
   "outputs": [],
   "source": [
    "audio = b\"\"\n",
    "transcript = \"\"\n",
    "\n",
    "characters = 0\n",
    "\n",
    "with cf.ThreadPoolExecutor() as executor:\n",
    "    futures = []\n",
    "    for line in llm_output.dialogue:\n",
    "        transcript_line = f\"{line.speaker}: {line.text}\"\n",
    "        future = executor.submit(get_mp3, line.text, line.voice, api_key)\n",
    "        futures.append((future, transcript_line))\n",
    "        characters += len(line.text)\n",
    "\n",
    "    for future, transcript_line in futures:\n",
    "        audio_chunk = future.result()\n",
    "        audio += audio_chunk\n",
    "        transcript += transcript_line + \"\\n\\n\""
   ]
  },
  {
   "cell_type": "code",
   "execution_count": 15,
   "metadata": {},
   "outputs": [],
   "source": [
    "temporary_directory = \"./output/\"\n",
    "os.makedirs(temporary_directory, exist_ok=True)\n",
    "\n",
    "temporary_file = NamedTemporaryFile(\n",
    "    dir=temporary_directory,\n",
    "    delete=False,\n",
    "    suffix=\".mp3\",\n",
    ")\n",
    "temporary_file.write(audio)\n",
    "temporary_file.close()"
   ]
  }
 ],
 "metadata": {
  "kernelspec": {
   "display_name": ".venv",
   "language": "python",
   "name": "python3"
  },
  "language_info": {
   "codemirror_mode": {
    "name": "ipython",
    "version": 3
   },
   "file_extension": ".py",
   "mimetype": "text/x-python",
   "name": "python",
   "nbconvert_exporter": "python",
   "pygments_lexer": "ipython3",
   "version": "3.12.5"
  }
 },
 "nbformat": 4,
 "nbformat_minor": 2
}
